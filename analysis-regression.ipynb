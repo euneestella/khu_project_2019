{
 "cells": [
  {
   "cell_type": "markdown",
   "metadata": {},
   "source": [
    "# 작업공간 불러오기"
   ]
  },
  {
   "cell_type": "code",
   "execution_count": 1,
   "metadata": {},
   "outputs": [],
   "source": [
    "load(\"C:/Users/eunee/khu_project_2019/data_cleaning.RData\")"
   ]
  },
  {
   "cell_type": "code",
   "execution_count": 3,
   "metadata": {},
   "outputs": [
    {
     "data": {
      "text/plain": [
       "     SEX           AGE               MARITAL        INCOME       TRTWHY1\n",
       " female:308   Min.   :19.00   cohabit    :526   Min.   : 0.000   N:663  \n",
       " male  :377   1st Qu.:36.00   non-cohabit: 60   1st Qu.: 3.000   Y: 22  \n",
       "              Median :44.00   single     : 99   Median : 5.000          \n",
       "              Mean   :45.01                     Mean   : 5.999          \n",
       "              3rd Qu.:52.00                     3rd Qu.: 7.000          \n",
       "              Max.   :81.00                     Max.   :21.000          \n",
       " TRTWHY2 TRTWHY3 TRTWHY4\n",
       " N:478   N:630   N:604  \n",
       " Y:207   Y: 55   Y: 81  \n",
       "                        \n",
       "                        \n",
       "                        \n",
       "                        "
      ]
     },
     "metadata": {},
     "output_type": "display_data"
    }
   ],
   "source": [
    "summary(kor)"
   ]
  },
  {
   "cell_type": "code",
   "execution_count": 2,
   "metadata": {},
   "outputs": [
    {
     "data": {
      "text/plain": [
       "     SEX           AGE               MARITAL        INCOME       TRTWHY1\n",
       " female:270   Min.   :15.00   cohabit    :440   Min.   : 1.000   N:457  \n",
       " male  :238   1st Qu.:34.75   non-cohabit: 12   1st Qu.: 3.000   Y: 51  \n",
       "              Median :48.00   single     : 56   Median : 5.000          \n",
       "              Mean   :46.70                     Mean   : 4.965          \n",
       "              3rd Qu.:60.00                     3rd Qu.: 6.000          \n",
       "              Max.   :75.00                     Max.   :12.000          \n",
       " TRTWHY2 TRTWHY3 TRTWHY4\n",
       " N:473   N:468   N:430  \n",
       " Y: 35   Y: 40   Y: 78  \n",
       "                        \n",
       "                        \n",
       "                        \n",
       "                        "
      ]
     },
     "metadata": {},
     "output_type": "display_data"
    }
   ],
   "source": [
    "summary(fin)"
   ]
  },
  {
   "cell_type": "markdown",
   "metadata": {},
   "source": [
    "## 치료 못 받았던 경험"
   ]
  },
  {
   "cell_type": "markdown",
   "metadata": {},
   "source": [
    "|원인|한국|핀란드|\n",
    "|------|---|---|\n",
    "|화폐비용|3.2%|9.7%|\n",
    "|시간비용|30.2%|7.2%|\n",
    "|물리적 거리|8%|7.6%|\n",
    "|대기시간|11.8%|14.9%|"
   ]
  },
  {
   "cell_type": "markdown",
   "metadata": {},
   "source": [
    "4가지 원인(화폐비용, 시간비용, 물리적 거리, 대기시간)으로 인해 치료받지 못한 경험은 한국과 핀란드에서 위와 같이 나타난다."
   ]
  },
  {
   "cell_type": "markdown",
   "metadata": {},
   "source": [
    "## 화폐비용"
   ]
  },
  {
   "cell_type": "code",
   "execution_count": 4,
   "metadata": {},
   "outputs": [
    {
     "data": {
      "text/plain": [
       "\n",
       "Call:\n",
       "glm(formula = TRTWHY1 ~ SEX + MARITAL + AGE + INCOME, family = binomial(link = \"logit\"), \n",
       "    data = kor)\n",
       "\n",
       "Deviance Residuals: \n",
       "     Min        1Q    Median        3Q       Max  \n",
       "-1.03982  -0.27600  -0.14785  -0.05845   3.06783  \n",
       "\n",
       "Coefficients:\n",
       "                    Estimate Std. Error z value Pr(>|z|)    \n",
       "(Intercept)        -1.466316   1.159574  -1.265   0.2060    \n",
       "SEXmale             1.158831   0.522982   2.216   0.0267 *  \n",
       "MARITALnon-cohabit  0.948293   0.590232   1.607   0.1081    \n",
       "MARITALsingle       0.600413   0.753966   0.796   0.4258    \n",
       "AGE                -0.007149   0.019676  -0.363   0.7163    \n",
       "INCOME             -0.666000   0.148117  -4.496 6.91e-06 ***\n",
       "---\n",
       "Signif. codes:  0 '***' 0.001 '**' 0.01 '*' 0.05 '.' 0.1 ' ' 1\n",
       "\n",
       "(Dispersion parameter for binomial family taken to be 1)\n",
       "\n",
       "    Null deviance: 194.57  on 684  degrees of freedom\n",
       "Residual deviance: 157.03  on 679  degrees of freedom\n",
       "AIC: 169.03\n",
       "\n",
       "Number of Fisher Scoring iterations: 8\n"
      ]
     },
     "metadata": {},
     "output_type": "display_data"
    }
   ],
   "source": [
    "summary(glm(TRTWHY1 ~ SEX+MARITAL+AGE+INCOME, family = binomial(link = 'logit'), data = kor))"
   ]
  },
  {
   "cell_type": "markdown",
   "metadata": {},
   "source": [
    "통제변인을 고려했을 때, **한국**에서 소득이 한 단위 증가하면 화폐비용을 지불할 능력이 없어서 치료받지 못할 <u>확률이 약 48.62%씩 감소</u>한다(OR = 0.5138, p < .001)."
   ]
  },
  {
   "cell_type": "code",
   "execution_count": 5,
   "metadata": {},
   "outputs": [
    {
     "data": {
      "text/plain": [
       "\n",
       "Call:\n",
       "glm(formula = TRTWHY1 ~ SEX + MARITAL + AGE + INCOME, family = binomial(link = \"logit\"), \n",
       "    data = fin)\n",
       "\n",
       "Deviance Residuals: \n",
       "    Min       1Q   Median       3Q      Max  \n",
       "-1.0291  -0.5069  -0.3736  -0.2528   2.5568  \n",
       "\n",
       "Coefficients:\n",
       "                     Estimate Std. Error z value Pr(>|z|)    \n",
       "(Intercept)         4.775e-01  6.235e-01   0.766   0.4437    \n",
       "SEXmale            -1.291e-01  3.104e-01  -0.416   0.6773    \n",
       "MARITALnon-cohabit -1.598e+01  1.041e+03  -0.015   0.9877    \n",
       "MARITALsingle      -2.948e-02  4.603e-01  -0.064   0.9489    \n",
       "AGE                -1.585e-02  9.627e-03  -1.646   0.0997 .  \n",
       "INCOME             -4.247e-01  9.369e-02  -4.533 5.81e-06 ***\n",
       "---\n",
       "Signif. codes:  0 '***' 0.001 '**' 0.01 '*' 0.05 '.' 0.1 ' ' 1\n",
       "\n",
       "(Dispersion parameter for binomial family taken to be 1)\n",
       "\n",
       "    Null deviance: 331.16  on 507  degrees of freedom\n",
       "Residual deviance: 300.25  on 502  degrees of freedom\n",
       "AIC: 312.25\n",
       "\n",
       "Number of Fisher Scoring iterations: 16\n"
      ]
     },
     "metadata": {},
     "output_type": "display_data"
    }
   ],
   "source": [
    "summary(glm(TRTWHY1 ~ SEX+MARITAL+AGE+INCOME, family = binomial(link = 'logit'), data = fin))"
   ]
  },
  {
   "cell_type": "markdown",
   "metadata": {},
   "source": [
    "통제변인을 고려했을 때, **핀란드**에서 소득이 한 단위 증가하면 화폐비용을 지불할 능력이 없어서 치료받지 못할 <u>확률이 약 34.62%씩 감소</u>한다(OR = 0.6538, p < .001)."
   ]
  },
  {
   "cell_type": "markdown",
   "metadata": {},
   "source": [
    "## 시간비용"
   ]
  },
  {
   "cell_type": "code",
   "execution_count": 5,
   "metadata": {},
   "outputs": [
    {
     "data": {
      "text/plain": [
       "\n",
       "Call:\n",
       "glm(formula = TRTWHY2 ~ SEX + MARITAL + AGE + INCOME, family = binomial(link = \"logit\"), \n",
       "    data = kor)\n",
       "\n",
       "Deviance Residuals: \n",
       "    Min       1Q   Median       3Q      Max  \n",
       "-1.1526  -0.8793  -0.7417   1.3506   2.1597  \n",
       "\n",
       "Coefficients:\n",
       "                    Estimate Std. Error z value Pr(>|z|)   \n",
       "(Intercept)         0.804764   0.430857   1.868  0.06179 . \n",
       "SEXmale            -0.250057   0.188245  -1.328  0.18406   \n",
       "MARITALnon-cohabit -0.492527   0.333573  -1.477  0.13980   \n",
       "MARITALsingle      -0.417999   0.275355  -1.518  0.12900   \n",
       "AGE                -0.022176   0.008266  -2.683  0.00730 **\n",
       "INCOME             -0.073473   0.025482  -2.883  0.00393 **\n",
       "---\n",
       "Signif. codes:  0 '***' 0.001 '**' 0.01 '*' 0.05 '.' 0.1 ' ' 1\n",
       "\n",
       "(Dispersion parameter for binomial family taken to be 1)\n",
       "\n",
       "    Null deviance: 839.41  on 684  degrees of freedom\n",
       "Residual deviance: 814.92  on 679  degrees of freedom\n",
       "AIC: 826.92\n",
       "\n",
       "Number of Fisher Scoring iterations: 4\n"
      ]
     },
     "metadata": {},
     "output_type": "display_data"
    }
   ],
   "source": [
    "summary(glm(TRTWHY2 ~ SEX+MARITAL+AGE+INCOME, family = binomial(link = 'logit'), data = kor))"
   ]
  },
  {
   "cell_type": "markdown",
   "metadata": {},
   "source": [
    "통제변인을 고려했을 때, **한국**에서 소득이 한 단위 증가하면 시간비용을 지불할 능력이 없어서 치료받지 못할 <u>확률이 약 7.04%씩 감소</u>한다(OR = 0.9296, p < .01)."
   ]
  },
  {
   "cell_type": "code",
   "execution_count": 7,
   "metadata": {},
   "outputs": [
    {
     "data": {
      "text/plain": [
       "\n",
       "Call:\n",
       "glm(formula = TRTWHY2 ~ SEX + MARITAL + AGE + INCOME, family = binomial(link = \"logit\"), \n",
       "    data = fin)\n",
       "\n",
       "Deviance Residuals: \n",
       "    Min       1Q   Median       3Q      Max  \n",
       "-0.6407  -0.4043  -0.3640  -0.3275   2.4377  \n",
       "\n",
       "Coefficients:\n",
       "                     Estimate Std. Error z value Pr(>|z|)    \n",
       "(Intercept)        -2.885e+00  8.231e-01  -3.506 0.000455 ***\n",
       "SEXmale            -6.946e-02  3.550e-01  -0.196 0.844887    \n",
       "MARITALnon-cohabit -1.490e+01  1.135e+03  -0.013 0.989528    \n",
       "MARITALsingle       2.169e-01  5.528e-01   0.392 0.694712    \n",
       "AGE                -6.085e-03  1.272e-02  -0.478 0.632496    \n",
       "INCOME              1.135e-01  8.063e-02   1.408 0.159191    \n",
       "---\n",
       "Signif. codes:  0 '***' 0.001 '**' 0.01 '*' 0.05 '.' 0.1 ' ' 1\n",
       "\n",
       "(Dispersion parameter for binomial family taken to be 1)\n",
       "\n",
       "    Null deviance: 254.79  on 507  degrees of freedom\n",
       "Residual deviance: 250.28  on 502  degrees of freedom\n",
       "AIC: 262.28\n",
       "\n",
       "Number of Fisher Scoring iterations: 16\n"
      ]
     },
     "metadata": {},
     "output_type": "display_data"
    }
   ],
   "source": [
    "summary(glm(TRTWHY2 ~ SEX+MARITAL+AGE+INCOME, family = binomial(link = 'logit'), data = fin))"
   ]
  },
  {
   "cell_type": "markdown",
   "metadata": {},
   "source": [
    "통제변인을 고려했을 때, **핀란드**에서 소득이 한 단위 증가하면 시간비용을 지불할 능력이 없어서 치료받지 못할 확률에 차이가 있다고 말할 수 없다."
   ]
  },
  {
   "cell_type": "markdown",
   "metadata": {},
   "source": [
    "## 물리적 거리"
   ]
  },
  {
   "cell_type": "code",
   "execution_count": 6,
   "metadata": {},
   "outputs": [
    {
     "data": {
      "text/plain": [
       "\n",
       "Call:\n",
       "glm(formula = TRTWHY3 ~ SEX + MARITAL + AGE + INCOME, family = binomial(link = \"logit\"), \n",
       "    data = kor)\n",
       "\n",
       "Deviance Residuals: \n",
       "    Min       1Q   Median       3Q      Max  \n",
       "-0.6810  -0.4763  -0.3733  -0.2560   2.5811  \n",
       "\n",
       "Coefficients:\n",
       "                   Estimate Std. Error z value Pr(>|z|)   \n",
       "(Intercept)        -0.96913    0.72013  -1.346  0.17838   \n",
       "SEXmale            -0.11220    0.32797  -0.342  0.73228   \n",
       "MARITALnon-cohabit  0.23876    0.43318   0.551  0.58151   \n",
       "MARITALsingle      -1.39952    0.65266  -2.144  0.03201 * \n",
       "AGE                -0.01075    0.01318  -0.816  0.41443   \n",
       "INCOME             -0.16113    0.05659  -2.847  0.00441 **\n",
       "---\n",
       "Signif. codes:  0 '***' 0.001 '**' 0.01 '*' 0.05 '.' 0.1 ' ' 1\n",
       "\n",
       "(Dispersion parameter for binomial family taken to be 1)\n",
       "\n",
       "    Null deviance: 382.89  on 684  degrees of freedom\n",
       "Residual deviance: 361.94  on 679  degrees of freedom\n",
       "AIC: 373.94\n",
       "\n",
       "Number of Fisher Scoring iterations: 6\n"
      ]
     },
     "metadata": {},
     "output_type": "display_data"
    }
   ],
   "source": [
    "summary(glm(TRTWHY3 ~ SEX+MARITAL+AGE+INCOME, family = binomial(link = 'logit'), data = kor))"
   ]
  },
  {
   "cell_type": "markdown",
   "metadata": {},
   "source": [
    "통제변인을 고려했을 때, **한국**에서 소득이 한 단위 증가하면 물리적 거리 때문에 치료받지 못할 <u>확률이 약 14.87%씩 감소</u>한다(OR = 0.8513, p < .01)."
   ]
  },
  {
   "cell_type": "code",
   "execution_count": 10,
   "metadata": {},
   "outputs": [
    {
     "data": {
      "text/plain": [
       "\n",
       "Call:\n",
       "glm(formula = TRTWHY3 ~ SEX + MARITAL + AGE + INCOME, family = binomial(link = \"logit\"), \n",
       "    data = fin)\n",
       "\n",
       "Deviance Residuals: \n",
       "    Min       1Q   Median       3Q      Max  \n",
       "-0.5492  -0.4511  -0.4023  -0.3365   2.6251  \n",
       "\n",
       "Coefficients:\n",
       "                     Estimate Std. Error z value Pr(>|z|)  \n",
       "(Intercept)         -1.910426   0.760792  -2.511    0.012 *\n",
       "SEXmale              0.068828   0.333098   0.207    0.836  \n",
       "MARITALnon-cohabit -14.300038 687.555380  -0.021    0.983  \n",
       "MARITALsingle       -0.956275   0.764428  -1.251    0.211  \n",
       "AGE                  0.002583   0.011302   0.229    0.819  \n",
       "INCOME              -0.126226   0.088644  -1.424    0.154  \n",
       "---\n",
       "Signif. codes:  0 '***' 0.001 '**' 0.01 '*' 0.05 '.' 0.1 ' ' 1\n",
       "\n",
       "(Dispersion parameter for binomial family taken to be 1)\n",
       "\n",
       "    Null deviance: 280.09  on 507  degrees of freedom\n",
       "Residual deviance: 273.66  on 502  degrees of freedom\n",
       "AIC: 285.66\n",
       "\n",
       "Number of Fisher Scoring iterations: 15\n"
      ]
     },
     "metadata": {},
     "output_type": "display_data"
    }
   ],
   "source": [
    "summary(glm(TRTWHY3 ~ SEX+MARITAL+AGE+INCOME, family = binomial(link = 'logit'), data = fin))"
   ]
  },
  {
   "cell_type": "markdown",
   "metadata": {},
   "source": [
    "통제변인을 고려했을 때, **핀란드**에서 소득이 한 단위 증가하면 물리적 거리 때문에 치료받지 못할 확률에 차이가 있다고 말할 수 없다."
   ]
  },
  {
   "cell_type": "markdown",
   "metadata": {},
   "source": [
    "## 대기시간"
   ]
  },
  {
   "cell_type": "code",
   "execution_count": 8,
   "metadata": {},
   "outputs": [
    {
     "data": {
      "text/plain": [
       "\n",
       "Call:\n",
       "glm(formula = TRTWHY4 ~ SEX + MARITAL + AGE + INCOME, family = binomial(link = \"logit\"), \n",
       "    data = kor)\n",
       "\n",
       "Deviance Residuals: \n",
       "    Min       1Q   Median       3Q      Max  \n",
       "-0.6969  -0.5637  -0.4541  -0.3994   2.3362  \n",
       "\n",
       "Coefficients:\n",
       "                   Estimate Std. Error z value Pr(>|z|)  \n",
       "(Intercept)        -0.87775    0.59464  -1.476   0.1399  \n",
       "SEXmale            -0.56454    0.26915  -2.098   0.0359 *\n",
       "MARITALnon-cohabit  0.19536    0.40780   0.479   0.6319  \n",
       "MARITALsingle      -0.31106    0.38944  -0.799   0.4244  \n",
       "AGE                -0.01620    0.01171  -1.383   0.1667  \n",
       "INCOME             -0.01950    0.03425  -0.569   0.5693  \n",
       "---\n",
       "Signif. codes:  0 '***' 0.001 '**' 0.01 '*' 0.05 '.' 0.1 ' ' 1\n",
       "\n",
       "(Dispersion parameter for binomial family taken to be 1)\n",
       "\n",
       "    Null deviance: 497.89  on 684  degrees of freedom\n",
       "Residual deviance: 488.18  on 679  degrees of freedom\n",
       "AIC: 500.18\n",
       "\n",
       "Number of Fisher Scoring iterations: 5\n"
      ]
     },
     "metadata": {},
     "output_type": "display_data"
    }
   ],
   "source": [
    "summary(glm(TRTWHY4 ~ SEX+MARITAL+AGE+INCOME, family = binomial(link = 'logit'), data = kor))"
   ]
  },
  {
   "cell_type": "markdown",
   "metadata": {},
   "source": [
    "통제변인을 고려했을 때, **한국**에서 소득이 한 단위 증가하면 대기시간 때문에 치료받지 못할 확률에 차이가 있다고 말할 수 없다."
   ]
  },
  {
   "cell_type": "code",
   "execution_count": 9,
   "metadata": {},
   "outputs": [
    {
     "data": {
      "text/plain": [
       "\n",
       "Call:\n",
       "glm(formula = TRTWHY4 ~ SEX + MARITAL + AGE + INCOME, family = binomial(link = \"logit\"), \n",
       "    data = fin)\n",
       "\n",
       "Deviance Residuals: \n",
       "    Min       1Q   Median       3Q      Max  \n",
       "-0.8052  -0.6065  -0.5608  -0.4797   2.2458  \n",
       "\n",
       "Coefficients:\n",
       "                     Estimate Std. Error z value Pr(>|z|)\n",
       "(Intercept)         -0.764546   0.552182  -1.385    0.166\n",
       "SEXmale              0.146834   0.249159   0.589    0.556\n",
       "MARITALnon-cohabit -15.110967 686.271661  -0.022    0.982\n",
       "MARITALsingle       -0.699108   0.476023  -1.469    0.142\n",
       "AGE                 -0.010683   0.008528  -1.253    0.210\n",
       "INCOME              -0.085915   0.062931  -1.365    0.172\n",
       "\n",
       "(Dispersion parameter for binomial family taken to be 1)\n",
       "\n",
       "    Null deviance: 435.67  on 507  degrees of freedom\n",
       "Residual deviance: 427.08  on 502  degrees of freedom\n",
       "AIC: 439.08\n",
       "\n",
       "Number of Fisher Scoring iterations: 15\n"
      ]
     },
     "metadata": {},
     "output_type": "display_data"
    }
   ],
   "source": [
    "summary(glm(TRTWHY4 ~ SEX+MARITAL+AGE+INCOME, family = binomial(link = 'logit'), data = fin))"
   ]
  },
  {
   "cell_type": "markdown",
   "metadata": {},
   "source": [
    "통제변인을 고려했을 때, **핀란드**에서 소득이 한 단위 증가하면 대기시간 때문에 치료받지 못할 확률에 차이가 있다고 말할 수 없다."
   ]
  },
  {
   "cell_type": "markdown",
   "metadata": {},
   "source": [
    "![table1](./table1.PNG)"
   ]
  }
 ],
 "metadata": {
  "kernelspec": {
   "display_name": "R",
   "language": "R",
   "name": "ir"
  },
  "language_info": {
   "codemirror_mode": "r",
   "file_extension": ".r",
   "mimetype": "text/x-r-source",
   "name": "R",
   "pygments_lexer": "r",
   "version": "3.5.1"
  }
 },
 "nbformat": 4,
 "nbformat_minor": 2
}
