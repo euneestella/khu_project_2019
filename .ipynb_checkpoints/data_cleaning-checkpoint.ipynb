{
 "cells": [
  {
   "cell_type": "markdown",
   "metadata": {},
   "source": [
    "# 근로소득에 따른 의료 접근성 - 한국과 핀란드를 중심으로"
   ]
  },
  {
   "cell_type": "markdown",
   "metadata": {},
   "source": [
    "## 데이터 정보\n",
    "ISSP 2011 : Health\n",
    "한국 : 한국종합사회조사(KGSS) 누적데이터    \n",
    "핀란드 : Finnish Social Science Data Archive"
   ]
  },
  {
   "cell_type": "markdown",
   "metadata": {},
   "source": [
    "누적데이터는 기존 공개된 연도별 데이터 중 오류를 수정한 내용을 포함하고 있습니다. 또한, 모든 연도에 적용할 가중치 변수가 포함되어 있습니다. 누적데이터 이용을 추천합니다."
   ]
  },
  {
   "cell_type": "markdown",
   "metadata": {},
   "source": [
    "## 패키지 설치"
   ]
  },
  {
   "cell_type": "code",
   "execution_count": 6,
   "metadata": {},
   "outputs": [
    {
     "name": "stderr",
     "output_type": "stream",
     "text": [
      "Warning message:\n",
      "\"unable to access index for repository http://www.stats.ox.ac.uk/pub/RWin/bin/windows/contrib/3.5:\n",
      "  URL 'http://www.stats.ox.ac.uk/pub/RWin/bin/windows/contrib/3.5/PACKAGES'를 열 수 없습니다\""
     ]
    },
    {
     "name": "stdout",
     "output_type": "stream",
     "text": [
      "package 'foreign' successfully unpacked and MD5 sums checked\n"
     ]
    },
    {
     "name": "stderr",
     "output_type": "stream",
     "text": [
      "Warning message:\n",
      "\"cannot remove prior installation of package 'foreign'\""
     ]
    },
    {
     "name": "stdout",
     "output_type": "stream",
     "text": [
      "\n",
      "The downloaded binary packages are in\n",
      "\tC:\\Users\\eunee\\AppData\\Local\\Temp\\RtmpSwHnmH\\downloaded_packages\n"
     ]
    },
    {
     "ename": "ERROR",
     "evalue": "Error in library(foreign): there is no package called 'foreign'\n",
     "output_type": "error",
     "traceback": [
      "Error in library(foreign): there is no package called 'foreign'\nTraceback:\n",
      "1. library(foreign)",
      "2. stop(txt, domain = NA)"
     ]
    }
   ],
   "source": [
    "install.packages(\"foreign\")\n",
    "library(foreign)"
   ]
  },
  {
   "cell_type": "markdown",
   "metadata": {},
   "source": [
    "## 파일 불러오기"
   ]
  },
  {
   "cell_type": "code",
   "execution_count": null,
   "metadata": {},
   "outputs": [],
   "source": [
    "kordata <- read.spss(\"C:/Users/eunee/khu_project_2019/data/kor.sav\", reencode = 'utf-8', use.value.labels = FALSE, to.data.frame = TRUE)\n",
    "findata <- read.spss(\"C:/Users/eunee/khu_project_2019/data/fin.por\", use.value.labels = FALSE, to.data.frame = TRUE)"
   ]
  },
  {
   "cell_type": "markdown",
   "metadata": {},
   "source": [
    "한글 인코딩을 위해 ```reencode = 'utf-8'``` 코드를 추가"
   ]
  },
  {
   "cell_type": "markdown",
   "metadata": {},
   "source": [
    "## 한국 데이터 클리닝"
   ]
  },
  {
   "cell_type": "markdown",
   "metadata": {},
   "source": [
    "KGSS 누적 데이터를 다운받아 그중 2011년 자료를 ```subset```해서 사용한다."
   ]
  },
  {
   "cell_type": "code",
   "execution_count": null,
   "metadata": {},
   "outputs": [],
   "source": [
    "kor_2011 <- subset(kordata, YEAR == 2011)"
   ]
  },
  {
   "cell_type": "markdown",
   "metadata": {},
   "source": [
    "필요한 변수를 ```subset```한다."
   ]
  },
  {
   "cell_type": "code",
   "execution_count": null,
   "metadata": {},
   "outputs": [],
   "source": [
    "kor <- subset(kor_2011, select = c(\"SEX\", \"AGE\", \"MARITAL\", \"RINCOME\", \"TRTWHY1\", \"TRTWHY2\", \"TRTWHY3\", \"TRTWHY4\"))"
   ]
  },
  {
   "cell_type": "code",
   "execution_count": null,
   "metadata": {},
   "outputs": [],
   "source": [
    "names(kor)[4] <- \"INCOME\""
   ]
  },
  {
   "cell_type": "markdown",
   "metadata": {},
   "source": [
    "### ```SEX```"
   ]
  },
  {
   "cell_type": "markdown",
   "metadata": {},
   "source": [
    "```SEX```를 ```0```(남성), ```1```(여성)으로 바꾼다."
   ]
  },
  {
   "cell_type": "code",
   "execution_count": null,
   "metadata": {},
   "outputs": [],
   "source": [
    "kor$SEX <- ifelse(kor$SEX == 1, 0, kor$SEX)\n",
    "kor$SEX <- ifelse(kor$SEX == 2, 1, kor$SEX)"
   ]
  },
  {
   "cell_type": "markdown",
   "metadata": {},
   "source": [
    "### ```MARITAL```"
   ]
  },
  {
   "cell_type": "markdown",
   "metadata": {},
   "source": [
    "동거에 ```1```, 비동거에 ```2```, 미혼에 ```3```의 새로운 값을 부여한다. \n",
    "- 동거 : 기혼, 동거    \n",
    "- 비동거 : 사별, 이혼 별거    \n",
    "- 미혼"
   ]
  },
  {
   "cell_type": "code",
   "execution_count": null,
   "metadata": {},
   "outputs": [],
   "source": [
    "kor$MARITAL <- ifelse(kor$MARITAL == 6, 1, kor$MARITAL)\n",
    "kor$MARITAL <- ifelse(kor$MARITAL == 3, 2, kor$MARITAL)\n",
    "kor$MARITAL <- ifelse(kor$MARITAL == 4, 2, kor$MARITAL)\n",
    "kor$MARITAL <- ifelse(kor$MARITAL == 5, 3, kor$MARITAL)"
   ]
  },
  {
   "cell_type": "markdown",
   "metadata": {},
   "source": [
    "### ```INCOME```"
   ]
  },
  {
   "cell_type": "markdown",
   "metadata": {},
   "source": [
    "응답에서 '모르겠다/무응답', '비해당'을 ```ifelse```문을 이용해 ```NA```처리한다."
   ]
  },
  {
   "cell_type": "code",
   "execution_count": null,
   "metadata": {},
   "outputs": [],
   "source": [
    "kor$INCOME <- ifelse(kor$INCOME==-8, NA, kor$INCOME)\n",
    "kor$INCOME <- ifelse(kor$INCOME==-1, NA, kor$INCOME)"
   ]
  },
  {
   "cell_type": "markdown",
   "metadata": {},
   "source": [
    "### ```TRTWHY```"
   ]
  },
  {
   "cell_type": "markdown",
   "metadata": {},
   "source": [
    "특정 사건을 '겪는' 경우를 ```1```, 그렇지 않은 경우 ```0```으로 처리한다."
   ]
  },
  {
   "cell_type": "code",
   "execution_count": null,
   "metadata": {},
   "outputs": [],
   "source": [
    "kor$TRTWHY1 <- ifelse(kor$TRTWHY1 == 2, 0, kor$TRTWHY1)\n",
    "kor$TRTWHY2 <- ifelse(kor$TRTWHY2 == 2, 0, kor$TRTWHY2)\n",
    "kor$TRTWHY3 <- ifelse(kor$TRTWHY3 == 2, 0, kor$TRTWHY3)\n",
    "kor$TRTWHY4 <- ifelse(kor$TRTWHY4 == 2, 0, kor$TRTWHY4)"
   ]
  },
  {
   "cell_type": "markdown",
   "metadata": {},
   "source": [
    "응답에서 '모르겠다/무응답', '비해당'을 ```ifelse```문을 이용해 ```NA```처리한다."
   ]
  },
  {
   "cell_type": "code",
   "execution_count": null,
   "metadata": {},
   "outputs": [],
   "source": [
    "kor$TRTWHY1 <- ifelse(kor$TRTWHY1==-1, NA, kor$TRTWHY1)\n",
    "kor$TRTWHY2 <- ifelse(kor$TRTWHY2==-1, NA, kor$TRTWHY2)\n",
    "kor$TRTWHY3 <- ifelse(kor$TRTWHY3==-1, NA, kor$TRTWHY3)\n",
    "kor$TRTWHY4 <- ifelse(kor$TRTWHY4==-1, NA, kor$TRTWHY4)"
   ]
  },
  {
   "cell_type": "markdown",
   "metadata": {},
   "source": [
    "### ```NA``` 제거"
   ]
  },
  {
   "cell_type": "markdown",
   "metadata": {},
   "source": [
    "```kor```에 있는 ```NA```를 제거한다."
   ]
  },
  {
   "cell_type": "code",
   "execution_count": null,
   "metadata": {},
   "outputs": [],
   "source": [
    "kor <- kor[complete.cases(kor), ]"
   ]
  },
  {
   "cell_type": "markdown",
   "metadata": {},
   "source": [
    "### 변수 범주화"
   ]
  },
  {
   "cell_type": "code",
   "execution_count": null,
   "metadata": {},
   "outputs": [],
   "source": [
    "kor$SEX <- as.factor(kor$SEX)\n",
    "kor$MARITAL <- as.factor(kor$MARITAL)\n",
    "kor$TRTWHY1 <- as.factor(kor$TRTWHY1)\n",
    "kor$TRTWHY2 <- as.factor(kor$TRTWHY2)\n",
    "kor$TRTWHY3 <- as.factor(kor$TRTWHY3)\n",
    "kor$TRTWHY4 <- as.factor(kor$TRTWHY4)"
   ]
  },
  {
   "cell_type": "markdown",
   "metadata": {},
   "source": [
    "## ```kor```"
   ]
  },
  {
   "cell_type": "markdown",
   "metadata": {},
   "source": [
    "- ```SEX``` : 성별\n",
    "    - ```0``` : 남자\n",
    "    - ```1``` : 여자\n",
    "\n",
    "    \n",
    "- ```AGE``` : 연령(만 나이)\n",
    "\n",
    "\n",
    "- ```MARITAL``` : 동거\n",
    "    - ```1``` : 동거\n",
    "    - ```2``` : 비동거\n",
    "    - ```3``` : 미혼\n",
    "    \n",
    "    \n",
    "- ```INCOME``` : 월 평균 근로소득 (세전)\n",
    "    - ```0``` : 소득 없음\n",
    "    - ```1``` : 50만원 미만\n",
    "    - ```2``` : 50만원 ~ 99만원\n",
    "    - ```3``` : 100만원 ~ 149만원\n",
    "    - ```4``` : 150만원 ~ 199만원\n",
    "    - ```5``` : 200만원 ~ 249만원\n",
    "    - ```6``` : 250만원 ~ 299만원\n",
    "    - ```7``` : 300만원 ~ 349만원\n",
    "    - ```8``` : 350만원 ~ 399만원\n",
    "    - ```9``` : 400만원 ~ 449만원\n",
    "    - ```10``` : 450만원 ~ 499만원\n",
    "    - ```11``` : 500만원 이상\n",
    "\n",
    "    \n",
    "    \n",
    "- 치료 못 받았던 경험  \n",
    "    ```TRTWHY1``` : 비용을 지불할 능력이 없어서\n",
    "    - ```0``` : 없었다\n",
    "    - ```1``` : 있었다\n",
    "    \n",
    " ```TRTWHY2``` : 직장을 빠지고 갈 시간이 없거나 다른 일로 바빠서  \n",
    "    - ```0``` : 없었다\n",
    "    - ```1``` : 있었다\n",
    "\n",
    " ```TRTWHY3``` : 거주하는 동네나 인근에서는 필요한 치료를 받을 수 없어서   \n",
    "    - ```0``` : 없었다\n",
    "    - ```1``` : 있었다\n",
    "  \n",
    " ```TRTWHY4``` : 치료를 기다리는 사람들이 너무 많아서   \n",
    "    - ```0``` : 없었다\n",
    "    - ```1``` : 있었다"
   ]
  },
  {
   "cell_type": "code",
   "execution_count": null,
   "metadata": {},
   "outputs": [],
   "source": [
    "summary(kor)"
   ]
  },
  {
   "cell_type": "markdown",
   "metadata": {},
   "source": [
    "## 핀란드 데이터 클리닝"
   ]
  },
  {
   "cell_type": "markdown",
   "metadata": {},
   "source": [
    "필요한 데이터를 ```subset```한다."
   ]
  },
  {
   "cell_type": "code",
   "execution_count": null,
   "metadata": {},
   "outputs": [],
   "source": [
    "fin <- subset(findata, select = c(\"K1\", \"K2\", \"K13\", \"K59\", \"K38A\", \"K38B\", \"K38C\", \"K38D\"))"
   ]
  },
  {
   "cell_type": "markdown",
   "metadata": {},
   "source": [
    "한국의 경우 연령 정보가 나이로 되어 있는 반면, 핀란드의 데이터에서는 태어난 연도로 되어 있다. 이를 모두 연령 단위로 통일해 ```age``` 변수로 만든다."
   ]
  },
  {
   "cell_type": "code",
   "execution_count": null,
   "metadata": {},
   "outputs": [],
   "source": [
    "fin$age <- 2011-fin$K2"
   ]
  },
  {
   "cell_type": "markdown",
   "metadata": {},
   "source": [
    "'비해당' 응답은 ```NA```로 처리한다."
   ]
  },
  {
   "cell_type": "code",
   "execution_count": null,
   "metadata": {},
   "outputs": [],
   "source": [
    "fin$k38a <- ifelse(fin$K38A == 8, NA, fin$K38A)\n",
    "fin$k38b <- ifelse(fin$K38B == 8, NA, fin$K38B)\n",
    "fin$k38c <- ifelse(fin$K38C == 8, NA, fin$K38C)\n",
    "fin$k38d <- ifelse(fin$K38D == 8, NA, fin$K38D)"
   ]
  },
  {
   "cell_type": "code",
   "execution_count": null,
   "metadata": {},
   "outputs": [],
   "source": [
    "fin <- subset(fin, select = c(\"K1\", \"age\", \"K13\", \"K59\", \"k38a\", \"k38b\", \"k38c\", \"k38d\"))"
   ]
  },
  {
   "cell_type": "code",
   "execution_count": null,
   "metadata": {},
   "outputs": [],
   "source": [
    "names(fin) <- c(\"SEX\", \"AGE\", \"MARTIAL\", \"INCOME\", \"TRTWHY1\", \"TRTWHY2\", \"TRTWHY3\", \"TRTWHY4\")"
   ]
  },
  {
   "cell_type": "markdown",
   "metadata": {},
   "source": [
    "남성을 0, 여성을 1로 코딩한다."
   ]
  },
  {
   "cell_type": "code",
   "execution_count": null,
   "metadata": {},
   "outputs": [],
   "source": [
    "fin$SEX <- ifelse(fin$SEX == 1, 0, fin$SEX)\n",
    "fin$SEX <- ifelse(fin$SEX == 2, 1, fin$SEX)"
   ]
  },
  {
   "cell_type": "markdown",
   "metadata": {},
   "source": [
    "```TRTWHY```에서 특정 사건을 '겪는' 경우를 1로 코딩한다."
   ]
  },
  {
   "cell_type": "code",
   "execution_count": null,
   "metadata": {},
   "outputs": [],
   "source": [
    "fin$TRTWHY1 <- ifelse(fin$TRTWHY1 == 2, 0, fin$TRTWHY1)\n",
    "fin$TRTWHY2 <- ifelse(fin$TRTWHY2 == 2, 0, fin$TRTWHY2)\n",
    "fin$TRTWHY3 <- ifelse(fin$TRTWHY3 == 2, 0, fin$TRTWHY3)\n",
    "fin$TRTWHY4 <- ifelse(fin$TRTWHY4 == 2, 0, fin$TRTWHY4)"
   ]
  },
  {
   "cell_type": "markdown",
   "metadata": {},
   "source": [
    "```NA```를 제거한다."
   ]
  },
  {
   "cell_type": "code",
   "execution_count": null,
   "metadata": {},
   "outputs": [],
   "source": [
    "fin <- fin[complete.cases(fin), ]"
   ]
  },
  {
   "cell_type": "markdown",
   "metadata": {},
   "source": [
    "변수들을 범주화한다."
   ]
  },
  {
   "cell_type": "code",
   "execution_count": null,
   "metadata": {},
   "outputs": [],
   "source": [
    "fin$SEX <- factor(fin$SEX)\n",
    "fin$MARTIAL <- factor(fin$MARTIAL)\n",
    "fin$TRTWHY1 <- factor(fin$TRTWHY1)\n",
    "fin$TRTWHY2 <- factor(fin$TRTWHY2)\n",
    "fin$TRTWHY3 <- factor(fin$TRTWHY3)\n",
    "fin$TRTWHY4 <- factor(fin$TRTWHY4)"
   ]
  },
  {
   "cell_type": "code",
   "execution_count": null,
   "metadata": {},
   "outputs": [],
   "source": [
    "summary(fin)"
   ]
  },
  {
   "cell_type": "markdown",
   "metadata": {},
   "source": [
    "히스토그램을 이용해 임금의 분포를 살펴보자."
   ]
  },
  {
   "cell_type": "code",
   "execution_count": null,
   "metadata": {},
   "outputs": [],
   "source": [
    "hist(fin$INCOME)"
   ]
  },
  {
   "cell_type": "markdown",
   "metadata": {},
   "source": [
    "임금 변수의 왜도가 심하므로 올바른 분석을 하기 어렵다. 따라서 로그를 취해 왜도를 줄인다."
   ]
  },
  {
   "cell_type": "code",
   "execution_count": null,
   "metadata": {},
   "outputs": [],
   "source": [
    "fin$INCOME <- log(fin$INCOME)\n",
    "hist(fin$INCOME)"
   ]
  },
  {
   "cell_type": "code",
   "execution_count": null,
   "metadata": {},
   "outputs": [],
   "source": [
    "summary(fin)"
   ]
  },
  {
   "cell_type": "markdown",
   "metadata": {},
   "source": [
    "- ```SEX``` : 성별\n",
    "    - ```0``` : 남자\n",
    "    - ```1``` : 여자\n",
    "\n",
    "    \n",
    "- ```AGE``` : 출생년도\n",
    "\n",
    "\n",
    "- ```MARTIAL``` : 동거\n",
    "    - ```1``` : 동거\n",
    "    - ```2``` : 비동거\n",
    "    - ```3``` : 해당 없음(미혼)\n",
    "    \n",
    "    \n",
    "- ```INCOME``` : 로그를 취한 월 평균 총 소득 (세전, 근로외 소득 포함)\n",
    "    \n",
    "    \n",
    "- 치료 못 받았던 경험  \n",
    "    ```TRTWHY1``` : 비용을 지불할 능력이 없어서\n",
    "    - ```0``` : 없었다\n",
    "    - ```1``` : 있었다\n",
    "    \n",
    " ```TRTWHY2``` : 직장을 빠지고 갈 시간이 없거나 다른 일로 바빠서  \n",
    "    - ```0``` : 없었다\n",
    "    - ```1``` : 있었다\n",
    "\n",
    " ```TRTWHY3``` : 거주하는 동네나 인근에서는 필요한 치료를 받을 수 없어서   \n",
    "    - ```0``` : 없었다\n",
    "    - ```1``` : 있었다\n",
    "  \n",
    " ```TRTWHY4``` : 치료를 기다리는 사람들이 너무 많아서   \n",
    "    - ```0``` : 없었다\n",
    "    - ```1``` : 있었다"
   ]
  },
  {
   "cell_type": "markdown",
   "metadata": {},
   "source": [
    "## 작업 공간 저장"
   ]
  },
  {
   "cell_type": "code",
   "execution_count": null,
   "metadata": {},
   "outputs": [],
   "source": [
    "save.image(file = \"C:/Users/eunee/khu_project_2019/data_cleaning.RData\")"
   ]
  }
 ],
 "metadata": {
  "kernelspec": {
   "display_name": "R",
   "language": "R",
   "name": "ir"
  },
  "language_info": {
   "codemirror_mode": "r",
   "file_extension": ".r",
   "mimetype": "text/x-r-source",
   "name": "R",
   "pygments_lexer": "r",
   "version": "3.5.1"
  }
 },
 "nbformat": 4,
 "nbformat_minor": 2
}
