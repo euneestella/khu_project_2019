{
 "cells": [
  {
   "cell_type": "markdown",
   "metadata": {},
   "source": [
    "# 근로소득에 따른 의료 접근성 - 한국과 핀란드를 중심으로\n",
    "경희대학교 사회학과 김은희    \n",
    "2019-2 경희대학교 꿈도전장학 (연구) 분야"
   ]
  },
  {
   "cell_type": "markdown",
   "metadata": {},
   "source": [
    "## 패키지 설치"
   ]
  },
  {
   "cell_type": "code",
   "execution_count": 3,
   "metadata": {},
   "outputs": [
    {
     "name": "stderr",
     "output_type": "stream",
     "text": [
      "Warning message:\n",
      "\"unable to access index for repository http://www.stats.ox.ac.uk/pub/RWin/bin/windows/contrib/3.5:\n",
      "  URL 'http://www.stats.ox.ac.uk/pub/RWin/bin/windows/contrib/3.5/PACKAGES'를 열 수 없습니다\""
     ]
    },
    {
     "name": "stdout",
     "output_type": "stream",
     "text": [
      "package 'foreign' successfully unpacked and MD5 sums checked\n",
      "\n",
      "The downloaded binary packages are in\n",
      "\tC:\\Users\\eunee\\AppData\\Local\\Temp\\RtmpSMVqAD\\downloaded_packages\n"
     ]
    }
   ],
   "source": [
    "install.packages(\"foreign\")\n",
    "library(foreign)"
   ]
  },
  {
   "cell_type": "markdown",
   "metadata": {},
   "source": [
    "## 파일 불러오기"
   ]
  },
  {
   "cell_type": "code",
   "execution_count": 4,
   "metadata": {},
   "outputs": [
    {
     "name": "stderr",
     "output_type": "stream",
     "text": [
      "Warning message in read.spss(\"C:/Users/eunee/khu_project_2019/data/kor.sav\", reencode = \"utf-8\", :\n",
      "\"C:/Users/eunee/khu_project_2019/data/kor.sav: Very long string record(s) found (record type 7, subtype 14), each will be imported in consecutive separate variables\"Warning message in read.spss(\"C:/Users/eunee/khu_project_2019/data/kor.sav\", reencode = \"utf-8\", :\n",
      "\"C:/Users/eunee/khu_project_2019/data/kor.sav: Long string value labels record found (record type 7, subtype 21), but ignored\"re-encoding from utf-8\n"
     ]
    }
   ],
   "source": [
    "kordata <- read.spss(\"C:/Users/eunee/khu_project_2019/data/kor.sav\", reencode = 'utf-8', use.value.labels = FALSE, to.data.frame = TRUE)\n",
    "findata <- read.spss(\"C:/Users/eunee/khu_project_2019/data/fin.por\", use.value.labels = FALSE, to.data.frame = TRUE)"
   ]
  },
  {
   "cell_type": "markdown",
   "metadata": {},
   "source": [
    "## 한국 데이터 클리닝"
   ]
  },
  {
   "cell_type": "markdown",
   "metadata": {},
   "source": [
    "KGSS 누적 데이터를 다운받아 그중 2011년 자료를 ```subset```해서 사용한다."
   ]
  },
  {
   "cell_type": "code",
   "execution_count": 6,
   "metadata": {},
   "outputs": [],
   "source": [
    "kor_2011 <- subset(kordata, YEAR == 2011)"
   ]
  },
  {
   "cell_type": "markdown",
   "metadata": {},
   "source": [
    "분석에는 다음과 같은 변수를 사용한다."
   ]
  },
  {
   "cell_type": "markdown",
   "metadata": {},
   "source": [
    "- ```SEX``` : 성별\n",
    "- ```AGE``` : 연령\n",
    "- ```MARITAL``` : 동거\n",
    "- ```RINCOME``` : 월 평균 근로소득 (세전)\n",
    "- ```RXTINCM``` : 월 평균 근로외 소득 (세전)\n",
    "- 치료 못 받았던 경험  \n",
    "```TRTWHY1``` : 비용을 지불할 능력이 없어서   \n",
    "```TRTWHY2``` : 직장을 빠지고 갈 시간이 없거나 다른 일로 바빠서   \n",
    "```TRTWHY3``` : 거주하는 동네나 인근에서는 필요한 치료를 받을 수 없어서   \n",
    "```TRTWHY4``` : 치료를 기다리는 사람들이 너무 많아서"
   ]
  },
  {
   "cell_type": "markdown",
   "metadata": {},
   "source": [
    "필요한 변수를 ```subset```한다."
   ]
  },
  {
   "cell_type": "code",
   "execution_count": 8,
   "metadata": {},
   "outputs": [],
   "source": [
    "kor <- subset(kor_2011, select = c(\"SEX\", \"AGE\", \"MARITAL\", \"RINCOME\", \"RXTINCM\", \"TRTWHY1\", \"TRTWHY2\", \"TRTWHY3\", \"TRTWHY4\"))"
   ]
  },
  {
   "cell_type": "markdown",
   "metadata": {},
   "source": [
    "동거에는 ```1```, 비동거에는 ```2```의 새로운 값을 부여한다."
   ]
  },
  {
   "cell_type": "code",
   "execution_count": 10,
   "metadata": {},
   "outputs": [],
   "source": [
    "kor$martial <- ifelse(kor$MARITAL == 6, 1, kor$MARITAL)\n",
    "kor$martial <- ifelse(kor$martial == 3, 2, kor$martial)\n",
    "kor$martial <- ifelse(kor$martial == 4, 2, kor$martial)\n",
    "kor$martial <- ifelse(kor$martial == 5, 2, kor$martial)"
   ]
  },
  {
   "cell_type": "markdown",
   "metadata": {},
   "source": [
    "## 핀란드 데이터 클리닝"
   ]
  },
  {
   "cell_type": "markdown",
   "metadata": {},
   "source": [
    "필요한 변수를 ```subset```한다."
   ]
  },
  {
   "cell_type": "code",
   "execution_count": 11,
   "metadata": {},
   "outputs": [],
   "source": [
    "fin <- subset(findata, select = c(\"K1\", \"K2\", \"K13\", \"K59\", \"K38A\", \"K38B\", \"K38C\", \"K38D\"))"
   ]
  },
  {
   "cell_type": "code",
   "execution_count": 13,
   "metadata": {},
   "outputs": [
    {
     "name": "stdout",
     "output_type": "stream",
     "text": [
      " num [1:1340] 1949 1952 1978 1969 1975 ...\n"
     ]
    }
   ],
   "source": [
    "str(fin$K2)"
   ]
  },
  {
   "cell_type": "markdown",
   "metadata": {},
   "source": [
    "한국의 경우 연령 정보가 나이로 되어 있는 반면, 핀란드의 데이터에서는 태어난 연도로 되어 있다. 이를 모두 연령 단위로 통일해 ```age``` 변수로 만든다."
   ]
  },
  {
   "cell_type": "code",
   "execution_count": 14,
   "metadata": {},
   "outputs": [],
   "source": [
    "fin$age <- 2011-fin$K2"
   ]
  },
  {
   "cell_type": "markdown",
   "metadata": {},
   "source": [
    "```TRTWHY1```~```TRTWHY4```의 응답에서 '비해당' 응답에 ```8```을 부여했는데, 한국과의 통일성을 위해 비해당의 경우 ```-1```을 부여한다."
   ]
  },
  {
   "cell_type": "code",
   "execution_count": 16,
   "metadata": {},
   "outputs": [],
   "source": [
    "fin$k38a <- ifelse(fin$K38A == 8, -1, fin$K38A)\n",
    "fin$k38b <- ifelse(fin$K38B == 8, -1, fin$K38B)\n",
    "fin$k38c <- ifelse(fin$K38C == 8, -1, fin$K38C)\n",
    "fin$k38d <- ifelse(fin$K38D == 8, -1, fin$K38D)"
   ]
  },
  {
   "cell_type": "markdown",
   "metadata": {},
   "source": [
    "비동거의 경우에도 통일성을 위해 ```2```값을 새로 부여한다."
   ]
  },
  {
   "cell_type": "code",
   "execution_count": 17,
   "metadata": {},
   "outputs": [],
   "source": [
    "fin$martial <- ifelse(fin$K13 == 3, 2, fin$K13)"
   ]
  }
 ],
 "metadata": {
  "kernelspec": {
   "display_name": "R",
   "language": "R",
   "name": "ir"
  },
  "language_info": {
   "codemirror_mode": "r",
   "file_extension": ".r",
   "mimetype": "text/x-r-source",
   "name": "R",
   "pygments_lexer": "r",
   "version": "3.5.1"
  }
 },
 "nbformat": 4,
 "nbformat_minor": 2
}
